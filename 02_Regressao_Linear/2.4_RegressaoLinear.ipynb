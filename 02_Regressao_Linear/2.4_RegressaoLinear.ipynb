{
  "nbformat": 4,
  "nbformat_minor": 0,
  "metadata": {
    "kernelspec": {
      "display_name": "Python 3",
      "language": "python",
      "name": "python3"
    },
    "language_info": {
      "codemirror_mode": {
        "name": "ipython",
        "version": 3
      },
      "file_extension": ".py",
      "mimetype": "text/x-python",
      "name": "python",
      "nbconvert_exporter": "python",
      "pygments_lexer": "ipython3",
      "version": "3.7.4"
    },
    "colab": {
      "name": "2.3_RegressaoLinear.ipynb",
      "provenance": [],
      "collapsed_sections": []
    }
  },
  "cells": [
    {
      "cell_type": "markdown",
      "metadata": {
        "id": "lkzYCoExqI-t"
      },
      "source": [
        "# Regressão Linear \n",
        "\n",
        "Você obteve algum contrato de trabalho com uma empresa de comércio eletrônico com sede na cidade de Nova York que vende roupas online, mas também tem sessões de consultoria em estilo e vestuário na loja. Os clientes entram na loja, têm sessões / reuniões com um estilista pessoal, então podem ir para casa e encomendarem em um aplicativo móvel ou site para a roupa que desejam.\n",
        "\n",
        "A empresa está tentando decidir se deve concentrar seus esforços em sua experiência em aplicativos móveis ou em seu site. "
      ]
    },
    {
      "cell_type": "markdown",
      "metadata": {
        "id": "b9Cj6LZtqI-v"
      },
      "source": [
        "## Imports\n",
        "**Importe pandas, numpy, matplotlib,e seaborn. Em seguida, configure %matplotlib inline\n",
        "(Você importará sklearn conforme você precisar).**"
      ]
    },
    {
      "cell_type": "code",
      "metadata": {
        "id": "bixjrZxyqI-w"
      },
      "source": [
        "import pandas as pd\n",
        "import numpy as np\n",
        "import matplotlib.pyplot as plt\n",
        "import seaborn as sns\n",
        "%matplotlib inline"
      ],
      "execution_count": null,
      "outputs": []
    },
    {
      "cell_type": "markdown",
      "metadata": {
        "id": "fjRJaWxdqI-x"
      },
      "source": [
        "## Obter dados\n",
        "\n",
        "Trabalharemos com o arquivo csv do EcommerceCustomers da empresa. Possui informações do cliente, como Email, Endereço e sua cor Avatar. Em seguida, ele também possui colunas de valores numéricos:.\n",
        "\n",
        "* Avg. Session Length: Tempo médio das sessões de consultoria de estilo na loja.\n",
        "* Time on App: tempo médio gasto no app em minutos.\n",
        "* Time on Website: tempo médio gasto no site em minutos.\n",
        "* Lenght of Membership: Há quantos anos o cliente é membro.\n",
        "\n",
        "**Leia no arquivo csv do EcommerceCustomers como um DataFrame chamado clientes.**"
      ]
    },
    {
      "cell_type": "code",
      "metadata": {
        "id": "7EPsRQFwsA2A"
      },
      "source": [
        "from google.colab import files\n",
        "uploaded = files.upload()"
      ],
      "execution_count": null,
      "outputs": []
    },
    {
      "cell_type": "code",
      "metadata": {
        "id": "SG9rkxKPqI-x"
      },
      "source": [
        "customers = pd.read_csv(\"EcommerceCustomers.csv\")"
      ],
      "execution_count": null,
      "outputs": []
    },
    {
      "cell_type": "markdown",
      "metadata": {
        "id": "DqokQb8FqI-x"
      },
      "source": [
        "**Verifique o cabeçalho dos clientes e confira os seus métodos info () e describe().**"
      ]
    },
    {
      "cell_type": "code",
      "metadata": {
        "id": "Cb1UhvzZqI-y"
      },
      "source": [
        ""
      ],
      "execution_count": null,
      "outputs": []
    },
    {
      "cell_type": "code",
      "metadata": {
        "id": "B8q-9Xm8qI-z"
      },
      "source": [
        ""
      ],
      "execution_count": null,
      "outputs": []
    },
    {
      "cell_type": "code",
      "metadata": {
        "id": "8UTYqrvpqI-z"
      },
      "source": [
        ""
      ],
      "execution_count": null,
      "outputs": []
    },
    {
      "cell_type": "markdown",
      "metadata": {
        "id": "AqjAFzLOqI-z"
      },
      "source": [
        "## Análise de dados exploratória\n",
        "\n",
        "**Vamos explorar os dados!**\n",
        "\n",
        "Pelo resto do exercício, só estaremos usando os dados numéricos do arquivo csv.\n",
        "___\n",
        "**Use seaborn para criar um jointplot para comparar as colunas Time On Website e Volume anual. A correlação faz sentido?**"
      ]
    },
    {
      "cell_type": "code",
      "metadata": {
        "id": "wErDu0twqI-0"
      },
      "source": [
        ""
      ],
      "execution_count": null,
      "outputs": []
    },
    {
      "cell_type": "code",
      "metadata": {
        "id": "vS-MMD_PqI-0"
      },
      "source": [
        ""
      ],
      "execution_count": null,
      "outputs": []
    },
    {
      "cell_type": "markdown",
      "metadata": {
        "id": "CaGBzLhEqI-0"
      },
      "source": [
        "**Faça o mesmo, mas com a coluna tempo no aplicativo (Time on App), em vez disso.**"
      ]
    },
    {
      "cell_type": "code",
      "metadata": {
        "id": "K9SPxYInqI-1"
      },
      "source": [
        ""
      ],
      "execution_count": null,
      "outputs": []
    },
    {
      "cell_type": "markdown",
      "metadata": {
        "id": "az7YG9qKqI-1"
      },
      "source": [
        "**Use jointplot criar um lote de caixa hexagonal 2D que compara tempo no aplicativo (Time on App) e o tempo da associação (Length of Membership).**"
      ]
    },
    {
      "cell_type": "code",
      "metadata": {
        "id": "7mSC1lWnqI-1"
      },
      "source": [
        ""
      ],
      "execution_count": null,
      "outputs": []
    },
    {
      "cell_type": "markdown",
      "metadata": {
        "id": "iXAxVa1RqI-1"
      },
      "source": [
        "**Vamos explorar esses tipos de relações em todo o conjunto de dados. Use [parplot](https://stanford.edu/~mwaskom/software/seaborn/tutorial/axis_grids.html#plotting-pairwise-relationships-with-pairgrid-and-pairplot) para recriar o gráfico abaixo. (Não se preocupe com as cores)**"
      ]
    },
    {
      "cell_type": "code",
      "metadata": {
        "id": "kFDyFzzoqI-2"
      },
      "source": [
        ""
      ],
      "execution_count": null,
      "outputs": []
    },
    {
      "cell_type": "markdown",
      "metadata": {
        "id": "oWOqa1N5qI-2"
      },
      "source": [
        "**Crie um plot de um modelo linear (usando o lmplot de Seaborn) da quantia anual gasta (Yearly Amount Spent) vs. tempo de associação (Length of Membership).**"
      ]
    },
    {
      "cell_type": "code",
      "metadata": {
        "id": "YMoU0_agqI-2"
      },
      "source": [
        ""
      ],
      "execution_count": null,
      "outputs": []
    },
    {
      "cell_type": "markdown",
      "metadata": {
        "id": "HROGlTI4qI-2"
      },
      "source": [
        "## Treinando e testando os dados\n",
        "\n",
        "Agora que exploramos um pouco os dados, vamos avançar e dividir os dados em conjuntos de treinamento e teste.\n",
        "** Defina uma variável X igual a todas as características numéricas dos clientes e uma variável y igual à coluna Valor anual gasto (Yearly Amount Spent). **"
      ]
    },
    {
      "cell_type": "code",
      "metadata": {
        "id": "Cr0KPcUYqI-3"
      },
      "source": [
        ""
      ],
      "execution_count": null,
      "outputs": []
    },
    {
      "cell_type": "code",
      "metadata": {
        "id": "kRlp51KyqI-3"
      },
      "source": [
        ""
      ],
      "execution_count": null,
      "outputs": []
    },
    {
      "cell_type": "markdown",
      "metadata": {
        "id": "7-5jtjwzqI-3"
      },
      "source": [
        "**Use model_selection.train_test_split da sklearn para dividir os dados em conjuntos de treinamento e teste. Defina test_size = 0.3 e random_state = 101**"
      ]
    },
    {
      "cell_type": "code",
      "metadata": {
        "id": "oNTGaeCVqI-3"
      },
      "source": [
        ""
      ],
      "execution_count": null,
      "outputs": []
    },
    {
      "cell_type": "code",
      "metadata": {
        "id": "I3DVGKwAqI-3"
      },
      "source": [
        ""
      ],
      "execution_count": null,
      "outputs": []
    },
    {
      "cell_type": "markdown",
      "metadata": {
        "id": "49s-TFvCqI-4"
      },
      "source": [
        "## Treinando o modelo\n",
        "\n",
        "Agora é hora de treinar nosso modelo em nossos dados de treinamento!\n",
        "\n",
        "**Importe LinearRegression do sklearn.linear_model**"
      ]
    },
    {
      "cell_type": "code",
      "metadata": {
        "id": "jAUBAzYxqI-4"
      },
      "source": [
        ""
      ],
      "execution_count": null,
      "outputs": []
    },
    {
      "cell_type": "markdown",
      "metadata": {
        "id": "slwpCHGXqI-4"
      },
      "source": [
        "**Crie uma instância de um modelo LinearRegression () chamado lm.**"
      ]
    },
    {
      "cell_type": "code",
      "metadata": {
        "id": "EqJlTkh5qI-4"
      },
      "source": [
        ""
      ],
      "execution_count": null,
      "outputs": []
    },
    {
      "cell_type": "markdown",
      "metadata": {
        "id": "IHzgWw4MqI-4"
      },
      "source": [
        "**Treine lm nos dados de treinamento.**"
      ]
    },
    {
      "cell_type": "code",
      "metadata": {
        "id": "rmdaSHJ3qI-4"
      },
      "source": [
        ""
      ],
      "execution_count": null,
      "outputs": []
    },
    {
      "cell_type": "markdown",
      "metadata": {
        "id": "-OglzO3fqI-5"
      },
      "source": [
        "**Print os coeficientes do modelo**"
      ]
    },
    {
      "cell_type": "code",
      "metadata": {
        "id": "Krp_F4PuqI-5"
      },
      "source": [
        ""
      ],
      "execution_count": null,
      "outputs": []
    },
    {
      "cell_type": "markdown",
      "metadata": {
        "id": "xYrm9vikqI-5"
      },
      "source": [
        "## Previsão de dados de teste\n",
        "Agora que nos ajustamos ao nosso modelo, vamos avaliar o seu desempenho ao prever os valores de teste!\n",
        "\n",
        "**Use lm.predict () para prever o conjunto X_test dos dados.**"
      ]
    },
    {
      "cell_type": "code",
      "metadata": {
        "id": "oSFWOMGMqI-6"
      },
      "source": [
        ""
      ],
      "execution_count": null,
      "outputs": []
    },
    {
      "cell_type": "markdown",
      "metadata": {
        "id": "OdBjaYpeqI-6"
      },
      "source": [
        "**Crie um diagrama de dispersão (scatterplot) dos valores reais de teste em relação aos valores preditos.**"
      ]
    },
    {
      "cell_type": "code",
      "metadata": {
        "id": "MRvEZyBPqI-6"
      },
      "source": [
        ""
      ],
      "execution_count": null,
      "outputs": []
    },
    {
      "cell_type": "markdown",
      "metadata": {
        "id": "dPD69XkPqI-6"
      },
      "source": [
        "## Avaliando o Modelo\n",
        "\n",
        "Vamos avaliar o desempenho do nosso modelo calculando a soma residual dos quadrados e o escore de variância explicado (R ^ 2).\n",
        "\n",
        "Calcule o erro absoluto médio, o erro quadrado médio e o erro quadrado médio da raiz."
      ]
    },
    {
      "cell_type": "code",
      "metadata": {
        "id": "lc4JyT_gqI-6"
      },
      "source": [
        ""
      ],
      "execution_count": null,
      "outputs": []
    },
    {
      "cell_type": "markdown",
      "metadata": {
        "id": "--IIlexBqI-7"
      },
      "source": [
        "## Resíduos\n",
        "\n",
        "Você deve ter obtido um modelo muito bom com um bom ajuste. Vamos explorar rapidamente os resíduos para garantir que tudo esteja bem com os nossos dados.\n",
        "\n",
        "**Trace um histograma dos resíduos e certifique-se de que ele parece normalmente distribuído. Use o seaborn distplot, ou apenas o plt.hist ().**"
      ]
    },
    {
      "cell_type": "code",
      "metadata": {
        "id": "A6Ck_5UsqI-7"
      },
      "source": [
        ""
      ],
      "execution_count": null,
      "outputs": []
    },
    {
      "cell_type": "markdown",
      "metadata": {
        "id": "Mhw3g6EqqI-7"
      },
      "source": [
        "## Conclusão\n",
        "Ainda desejamos descobrir a resposta à pergunta original, concentramos-nos no desenvolvimento de aplicativos móveis ou de sites? Ou talvez isso realmente não importe, e o tempo como membro é o que é realmente importante? Vamos ver se podemos interpretar os coeficientes para ter uma idéia.\n",
        "\n",
        "**Recrie o quadro de dados abaixo.**"
      ]
    },
    {
      "cell_type": "code",
      "metadata": {
        "id": "0M5xKW6iqI-7"
      },
      "source": [
        ""
      ],
      "execution_count": null,
      "outputs": []
    },
    {
      "cell_type": "markdown",
      "metadata": {
        "id": "3qucDalHqI-8"
      },
      "source": [
        "**Como você pode interpretar esses coeficientes?**"
      ]
    },
    {
      "cell_type": "markdown",
      "metadata": {
        "id": "QiIHKk5JqI-8"
      },
      "source": [
        "Interpretando os coeficientes:\n",
        "\n",
        "**Mantendo todos as outras variáveis constantes**, um aumento de 1 unidade na média de tempo de uso está associado a um aumento de 25,98 dólares totais gastos.\n",
        "\n",
        "**Mantendo todos as outras variáveis constantes**, um aumento de 1 unidade no tempo gasto no App está associado a um aumento de 38,59 dólares totais gastos.\n",
        "\n",
        "**Mantendo todos as outras variáveis constantes**, um aumento de 1 unidade no tempo no site está associado a um aumento de 0,19 dólares em dólares.\n",
        "\n",
        "**Mantendo todos as outras variáveis constantes**, um aumento de 1 unidade no tempo de Associação está associado a um aumento de 61,27 dólares em dólares."
      ]
    },
    {
      "cell_type": "markdown",
      "metadata": {
        "id": "XHiRrBkAqI-8"
      },
      "source": [
        "**Você acha que a empresa deve se concentrar mais em seu aplicativo móvel ou em seu site?**"
      ]
    },
    {
      "cell_type": "markdown",
      "metadata": {
        "id": "O1jMV5HDqI-8"
      },
      "source": [
        "Primeiramente, a empresa provevelmente deveria arranjar outras formas de fidelizar seu cliente, já que essa é a variável que mais ifluenciam os gastos dos seus usuários. Entre site e aplicativo, investiriamos no aplicavo, dado que o mesmo apresenta um coeficiente significativamente maior do que o site."
      ]
    }
  ]
}