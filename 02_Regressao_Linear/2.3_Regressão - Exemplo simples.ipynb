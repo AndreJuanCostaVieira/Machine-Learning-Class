{
  "nbformat": 4,
  "nbformat_minor": 0,
  "metadata": {
    "colab": {
      "name": "Untitled24.ipynb",
      "provenance": []
    },
    "kernelspec": {
      "name": "python3",
      "display_name": "Python 3"
    },
    "language_info": {
      "name": "python"
    }
  },
  "cells": [
    {
      "cell_type": "markdown",
      "metadata": {
        "id": "YbFQ9rJjkz7C"
      },
      "source": [
        "# Regressão linear simples"
      ]
    },
    {
      "cell_type": "markdown",
      "metadata": {
        "id": "RI1Lk42xk3RG"
      },
      "source": [
        "## Base plano saúde"
      ]
    },
    {
      "cell_type": "markdown",
      "metadata": {
        "id": "8Lmv19Zl5mWz"
      },
      "source": [
        "#### Importe as bibliotecas "
      ]
    },
    {
      "cell_type": "code",
      "metadata": {
        "id": "zSVv67tJ4Y2H"
      },
      "source": [
        "!pip install plotly --upgrade"
      ],
      "execution_count": null,
      "outputs": []
    },
    {
      "cell_type": "code",
      "metadata": {
        "id": "j5VLwNpi4YEJ"
      },
      "source": [
        "import plotly.express as px\n",
        "import plotly.graph_objects as go\n",
        "import seaborn as sns\n",
        "import matplotlib.pyplot as plt\n",
        "import pandas as pd\n",
        "import numpy as np"
      ],
      "execution_count": 2,
      "outputs": []
    },
    {
      "cell_type": "markdown",
      "metadata": {
        "id": "CzG4IXaP5sJU"
      },
      "source": [
        "#### Leia o dataset"
      ]
    },
    {
      "cell_type": "code",
      "metadata": {
        "id": "pfuFN0Cq8Ttc"
      },
      "source": [
        "from google.colab import files\n",
        "uploaded = files.upload()"
      ],
      "execution_count": null,
      "outputs": []
    },
    {
      "cell_type": "code",
      "metadata": {
        "id": "8hAbxGcj4Y7s"
      },
      "source": [
        ""
      ],
      "execution_count": null,
      "outputs": []
    },
    {
      "cell_type": "markdown",
      "metadata": {
        "id": "TzzCee2E5wil"
      },
      "source": [
        "#### Separe os valores que queremos prever"
      ]
    },
    {
      "cell_type": "code",
      "metadata": {
        "id": "_N_MwnHS4ZA2"
      },
      "source": [
        ""
      ],
      "execution_count": null,
      "outputs": []
    },
    {
      "cell_type": "code",
      "metadata": {
        "id": "cnIzA_FL57Vw"
      },
      "source": [
        ""
      ],
      "execution_count": null,
      "outputs": []
    },
    {
      "cell_type": "markdown",
      "metadata": {
        "id": "msEUm1e24ZFc"
      },
      "source": [
        "#### Correlação"
      ]
    },
    {
      "cell_type": "code",
      "metadata": {
        "id": "cqQ_sKdz4ZKE"
      },
      "source": [
        ""
      ],
      "execution_count": null,
      "outputs": []
    },
    {
      "cell_type": "code",
      "metadata": {
        "id": "sSRiRbVi4ZSy"
      },
      "source": [
        ""
      ],
      "execution_count": null,
      "outputs": []
    },
    {
      "cell_type": "markdown",
      "metadata": {
        "id": "wDs14mRH6DWa"
      },
      "source": [
        "#### Formato do dado"
      ]
    },
    {
      "cell_type": "code",
      "metadata": {
        "id": "6m7R47tq4ZOY"
      },
      "source": [
        ""
      ],
      "execution_count": null,
      "outputs": []
    },
    {
      "cell_type": "code",
      "metadata": {
        "id": "zzPD-SJw4ZWZ"
      },
      "source": [
        ""
      ],
      "execution_count": null,
      "outputs": []
    },
    {
      "cell_type": "markdown",
      "metadata": {
        "id": "l9O9nN8d6Tmn"
      },
      "source": [
        "#### Crie o modelo e aplique aos dados "
      ]
    },
    {
      "cell_type": "code",
      "metadata": {
        "id": "XoOHgc5l4ZaJ"
      },
      "source": [
        ""
      ],
      "execution_count": null,
      "outputs": []
    },
    {
      "cell_type": "markdown",
      "metadata": {
        "id": "3vUPmOu96ZEH"
      },
      "source": [
        "#### Encontre onde a regressão linear intercepta o eixo Y e o coeficiente angular"
      ]
    },
    {
      "cell_type": "code",
      "metadata": {
        "id": "sTnQsvvX4Zd8"
      },
      "source": [
        ""
      ],
      "execution_count": null,
      "outputs": []
    },
    {
      "cell_type": "code",
      "metadata": {
        "id": "UFhLOsLs4ZhM"
      },
      "source": [
        ""
      ],
      "execution_count": null,
      "outputs": []
    },
    {
      "cell_type": "markdown",
      "metadata": {
        "id": "YJIIBy307BuJ"
      },
      "source": [
        "#### Faça o predict e o plot da regressão"
      ]
    },
    {
      "cell_type": "code",
      "metadata": {
        "id": "KDPxsZW_4Zkk"
      },
      "source": [
        ""
      ],
      "execution_count": null,
      "outputs": []
    },
    {
      "cell_type": "code",
      "metadata": {
        "id": "Ia9n5h6c4ZoT"
      },
      "source": [
        ""
      ],
      "execution_count": null,
      "outputs": []
    },
    {
      "cell_type": "code",
      "metadata": {
        "id": "B064U1Wc4vFy"
      },
      "source": [
        ""
      ],
      "execution_count": null,
      "outputs": []
    },
    {
      "cell_type": "code",
      "metadata": {
        "id": "z6saTBEg4vKt"
      },
      "source": [
        ""
      ],
      "execution_count": null,
      "outputs": []
    },
    {
      "cell_type": "markdown",
      "metadata": {
        "id": "eb5k5JxO7rHn"
      },
      "source": [
        "#### Preveja novos valores que não estão no dataset"
      ]
    },
    {
      "cell_type": "code",
      "metadata": {
        "id": "neB2v9TI4vO2"
      },
      "source": [
        ""
      ],
      "execution_count": null,
      "outputs": []
    },
    {
      "cell_type": "code",
      "metadata": {
        "id": "JKIOfCkt4vTP"
      },
      "source": [
        ""
      ],
      "execution_count": null,
      "outputs": []
    },
    {
      "cell_type": "code",
      "metadata": {
        "id": "FPbdI6Ml4vXW"
      },
      "source": [
        ""
      ],
      "execution_count": null,
      "outputs": []
    },
    {
      "cell_type": "markdown",
      "metadata": {
        "id": "nlN6CwcV4vbV"
      },
      "source": [
        "#### Plot do gráfico residual"
      ]
    },
    {
      "cell_type": "code",
      "metadata": {
        "id": "eYbG8ysk8EU6"
      },
      "source": [
        ""
      ],
      "execution_count": null,
      "outputs": []
    },
    {
      "cell_type": "code",
      "metadata": {
        "id": "ew4f__ND4Zti"
      },
      "source": [
        ""
      ],
      "execution_count": null,
      "outputs": []
    }
  ]
}