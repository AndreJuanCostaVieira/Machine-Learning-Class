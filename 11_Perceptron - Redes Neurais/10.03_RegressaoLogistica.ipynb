{
 "cells": [
  {
   "cell_type": "markdown",
   "metadata": {},
   "source": [
    "## Perceptrons e a inspiração biológica para regressão logística\n",
    "\n",
    "Regressão logística pode ser vista como um tipo de perceptron, um algoritmo antigo de inteligência artificial que tem se inspira levemente no funcionamento dos neurônios. De maneira bem simplificada, nós podemos pensar nos neurônios como células que recebem um sinal e passam esse sinal adiante se um limiar for excedido. Isso é exatamente o que a regressão logística faz: pondera um sinal de várias variáveis, soma esses sinais, e passa por uma função achatamento, produzindo uma probabilidade. Se essa probabilidade for maior do que um limiar, a regressão logística o os perceptrons ativam, ou seja, retornam 1. Caso os sinais recebidos não forem fortes o suficiente, a regressão logística e os perceptrons não disparam, produzindo zero.\n",
    "\n",
    "As diferenças entre perceptrons e regressão logística são muito sutis que nem vale a pena mencioná-las. Mais importante é saber do que são capazes esses modelos e quais as suas limitações. \n",
    "\n",
    "Em primeiro lugar, precisamos entender que a regressão logística e os perceptrons acham uma linha de separação entre as classes. Se essa linha existir, esses modelos irão encontrá-las com certeza, dado uma taxa de aprendizado suficientemente baixa e um numero suficiente de iterações de treino. "
   ]
  },
  {
   "cell_type": "code",
   "execution_count": 1,
   "metadata": {},
   "outputs": [],
   "source": [
    "%matplotlib inline\n",
    "import numpy as np\n",
    "import pandas as pd\n",
    "import matplotlib.pyplot as plt\n",
    "import matplotlib\n",
    "from IPython import display\n",
    "\n",
    "\n",
    "class perceptron(object):\n",
    "\n",
    "    def __init__(self, lrate = 1, w=None, maxiter=3, tol = 0, plot_= False):\n",
    "        self.lrate = lrate\n",
    "        self.maxiter = maxiter\n",
    "        self.tol = tol\n",
    "        self.plot_ = plot_\n",
    "        self.w = w\n",
    "\n",
    "    def __update_w(self, X_train, y_train):\n",
    "\n",
    "        for xi, yi in zip(X_train, y_train):\n",
    "\n",
    "            if int(np.sign(np.dot(xi, self.w.T))) != int(yi):\n",
    "                self.w += (xi.T * self.lrate)*yi\n",
    "\n",
    "\n",
    "    def __eval_perceptron(self, X_train, y_train):\n",
    "\n",
    "        error = 0\n",
    "        miss_indx = []\n",
    "        for xi, yi, i in zip(X_train, y_train, range(len(y_train))):\n",
    "\n",
    "            if int(np.sign(np.dot(xi, self.w.T))) != int(yi):\n",
    "                error += 1\n",
    "\n",
    "        return error\n",
    "\n",
    "\n",
    "    def _plot(self, X, y, true_w=None):\n",
    "        a, b = -self.w[1]/self.w[2], -self.w[0]/self.w[2] \n",
    "        l = np.linspace(-1,1)\n",
    "        ax = plt.subplot(111)\n",
    "        \n",
    "        ax.plot(l, a*l+b, 'green')\n",
    "        cols = {1: 'r', -1: 'b'}\n",
    "        \n",
    "        ax.set_xlim([-1,1])\n",
    "        ax.set_ylim([-1,1])\n",
    "        \n",
    "        for x,s in zip(X, y):\n",
    "            ax.plot(x[0], x[1], cols[s]+'o')\n",
    "\n",
    "        if not true_w is None:\n",
    "            a, b = -true_w[1]/true_w[2], -true_w[0]/true_w[2] \n",
    "            ax.plot(l, a*l+b, '-k')\n",
    "            \n",
    "        display.display(plt.gcf())\n",
    "        display.clear_output(wait=True)\n",
    "        plt.clf() # limpa a imagem do gráfico\n",
    "        \n",
    "\n",
    "    def fit(self, X_train, y_train):\n",
    "        X_train = np.array(X_train)\n",
    "        X_train = np.insert(X_train, 0, 1, 1) # adiciona vies\n",
    "        y_train = np.array(y_train)\n",
    "\n",
    "        if self.w is None:\n",
    "            self.w = np.random.normal(0, 10, len(X_train[0]))\n",
    "\n",
    "        count = 0\n",
    "        while True:\n",
    "\n",
    "            error = self.__eval_perceptron(X_train, y_train)\n",
    "            self.__update_w(X_train, y_train)\n",
    "\n",
    "            count += 1\n",
    "            if error < self.tol or count > self.maxiter:\n",
    "                break\n",
    "\n",
    "            if self.plot_:\n",
    "                self._plot(X_train[:, 1:], y_train)\n",
    "\n",
    "    def predict(self, X_test):\n",
    "\n",
    "        X_test = np.insert(X_test, 0, 1, 1)\n",
    "        return np.sign(np.dot(X_test, self.w.T))"
   ]
  },
  {
   "cell_type": "code",
   "execution_count": 2,
   "metadata": {},
   "outputs": [
    {
     "data": {
      "image/png": "[encoded data removed]",
      "text/plain": [
       "<Figure size 432x288 with 1 Axes>"
      ]
     },
     "metadata": {},
     "output_type": "display_data"
    }
   ],
   "source": [
    "np.random.seed(5)\n",
    "# gera dados linearmente separáveis em 2D\n",
    "x1,y1,x2,y2 = [np.random.uniform(-1, 1) for i in range(4)] # define 2 pontos\n",
    "w_target = np.array([x2*y1-x1*y2, y2-y1, x1-x2]) # gera vetor\n",
    "a, b = -w_target[1]/w_target[2], -w_target[0]/w_target[2] # para desenhar\n",
    "\n",
    "X = np.random.uniform(-1, 1, (100, 2)) # gera 100 pontos \n",
    "y = np.sign(np.dot(np.insert(X, 0, 1, 1), w_target.T)) # gera targets\n",
    "\n",
    "\n",
    "# usa perceptron para separar os dados\t\n",
    "clf = perceptron(maxiter=30, lrate = .1, plot_ = True)\n",
    "clf.fit(X, y)\n",
    "\n",
    "# mostra resultados\n",
    "clf._plot(X, y, true_w = w_target)\n",
    "\n",
    "%matplotlib notebook"
   ]
  },
  {
   "cell_type": "markdown",
   "metadata": {},
   "source": [
    "No entanto, exitem duas limitações que devemos nos atentar quando utilizando esses modelos. A primeira é que nem regressão logística e nem perceptrons conseguem achar a fronteira de separação entre as classes se essa fronteira não for uma reta. Essa limitação vem do fato desses modelos serem lineares. A segunda limitação é que regressão logística e perceptrons acham apenas alguma reta de separação entre as classes, mas não é garantido que eles encontrem a melhor reta de separação."
   ]
  }
 ],
 "metadata": {
  "kernelspec": {
   "display_name": "Python 3.7.4 64-bit ('base': conda)",
   "language": "python",
   "name": "python37464bitbaseconda38167b8c1ef44120b52038489a440cfb"
  },
  "language_info": {
   "codemirror_mode": {
    "name": "ipython",
    "version": 3
   },
   "file_extension": ".py",
   "mimetype": "text/x-python",
   "name": "python",
   "nbconvert_exporter": "python",
   "pygments_lexer": "ipython3",
   "version": "3.7.4"
  }
 },
 "nbformat": 4,
 "nbformat_minor": 2
}
